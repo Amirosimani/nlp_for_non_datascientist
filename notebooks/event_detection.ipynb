{
 "cells": [
  {
   "cell_type": "code",
   "execution_count": 3,
   "metadata": {},
   "outputs": [],
   "source": [
    "import pandas as pd\n",
    "import numpy as np\n",
    "import operator\n",
    "\n",
    "from tqdm import tqdm_notebook, tqdm\n",
    "import matplotlib.pyplot as plt\n",
    "import seaborn as sns\n",
    "import pylab \n",
    "\n",
    "import spacy\n",
    "from sklearn.cluster import DBSCAN\n",
    "from sklearn.manifold import TSNE \n",
    "from sklearn.metrics import pairwise_distances_argmin_min"
   ]
  },
  {
   "cell_type": "code",
   "execution_count": 4,
   "metadata": {},
   "outputs": [],
   "source": [
    "nlp = spacy.load('en_core_web_lg')\n",
    "np.random.seed(42)"
   ]
  },
  {
   "cell_type": "markdown",
   "metadata": {},
   "source": [
    "# 1. Load Data"
   ]
  },
  {
   "cell_type": "code",
   "execution_count": 5,
   "metadata": {},
   "outputs": [],
   "source": [
    "# df = pd.read_csv('../data/nyt_data_20200202.csv')\n",
    "\n",
    "df = pd.read_csv('../data/news_api.csv')"
   ]
  },
  {
   "cell_type": "code",
   "execution_count": 6,
   "metadata": {},
   "outputs": [],
   "source": [
    "df['publishedAt'] = pd.to_datetime(df['publishedAt'])\n",
    "\n",
    "df = df.drop_duplicates()"
   ]
  },
  {
   "cell_type": "code",
   "execution_count": 7,
   "metadata": {},
   "outputs": [
    {
     "data": {
      "text/html": [
       "<div>\n",
       "<style scoped>\n",
       "    .dataframe tbody tr th:only-of-type {\n",
       "        vertical-align: middle;\n",
       "    }\n",
       "\n",
       "    .dataframe tbody tr th {\n",
       "        vertical-align: top;\n",
       "    }\n",
       "\n",
       "    .dataframe thead th {\n",
       "        text-align: right;\n",
       "    }\n",
       "</style>\n",
       "<table border=\"1\" class=\"dataframe\">\n",
       "  <thead>\n",
       "    <tr style=\"text-align: right;\">\n",
       "      <th></th>\n",
       "      <th>author</th>\n",
       "      <th>content</th>\n",
       "      <th>description</th>\n",
       "      <th>publishedAt</th>\n",
       "      <th>source</th>\n",
       "      <th>title</th>\n",
       "      <th>url</th>\n",
       "      <th>urlToImage</th>\n",
       "    </tr>\n",
       "  </thead>\n",
       "  <tbody>\n",
       "    <tr>\n",
       "      <th>0</th>\n",
       "      <td>https://www.facebook.com/bbcnews</td>\n",
       "      <td>Image copyrightGetty ImagesImage caption\\r\\n W...</td>\n",
       "      <td>Hundreds of Muslim women are braving the Delhi...</td>\n",
       "      <td>2020-01-04 01:14:44</td>\n",
       "      <td>{'id': 'bbc-news', 'name': 'BBC News'}</td>\n",
       "      <td>Shaheen Bagh: The women occupying Delhi street...</td>\n",
       "      <td>https://www.bbc.co.uk/news/world-asia-india-50...</td>\n",
       "      <td>https://ichef.bbci.co.uk/news/1024/branded_new...</td>\n",
       "    </tr>\n",
       "    <tr>\n",
       "      <th>1</th>\n",
       "      <td>https://www.facebook.com/bbcnews</td>\n",
       "      <td>Image caption\\r\\n Callum has travelled to Roya...</td>\n",
       "      <td>The community in Shetland is trying to raise m...</td>\n",
       "      <td>2020-01-04 01:04:57</td>\n",
       "      <td>{'id': 'bbc-news', 'name': 'BBC News'}</td>\n",
       "      <td>'I need to go on a car, a boat, a plane and a ...</td>\n",
       "      <td>https://www.bbc.co.uk/news/uk-scotland-north-e...</td>\n",
       "      <td>https://ichef.bbci.co.uk/news/1024/branded_new...</td>\n",
       "    </tr>\n",
       "    <tr>\n",
       "      <th>2</th>\n",
       "      <td>https://www.facebook.com/bbcnews</td>\n",
       "      <td>Image copyrightGetty Images\\r\\nPatients who fa...</td>\n",
       "      <td>GPs urge hospitals not to strike people off th...</td>\n",
       "      <td>2020-01-04 01:35:46</td>\n",
       "      <td>{'id': 'bbc-news', 'name': 'BBC News'}</td>\n",
       "      <td>Call to give hospital appointment no-shows sec...</td>\n",
       "      <td>https://www.bbc.co.uk/news/uk-wales-49263455</td>\n",
       "      <td>https://ichef.bbci.co.uk/news/1024/branded_new...</td>\n",
       "    </tr>\n",
       "    <tr>\n",
       "      <th>3</th>\n",
       "      <td>https://www.facebook.com/bbcnews</td>\n",
       "      <td>Image copyrightGetty Images\\r\\nThey were said ...</td>\n",
       "      <td>Figures show millions of the new-style £5 and ...</td>\n",
       "      <td>2020-01-04 03:57:47</td>\n",
       "      <td>{'id': 'bbc-news', 'name': 'BBC News'}</td>\n",
       "      <td>Millions of plastic £5 and £10 banknotes repla...</td>\n",
       "      <td>https://www.bbc.co.uk/news/uk-50989914</td>\n",
       "      <td>https://ichef.bbci.co.uk/news/1024/branded_new...</td>\n",
       "    </tr>\n",
       "    <tr>\n",
       "      <th>4</th>\n",
       "      <td>BBC News</td>\n",
       "      <td>NaN</td>\n",
       "      <td>The increasing age of carers looking after adu...</td>\n",
       "      <td>2020-01-04 00:01:04</td>\n",
       "      <td>{'id': 'bbc-news', 'name': 'BBC News'}</td>\n",
       "      <td>Age of carers is 'looming crisis' for adult care</td>\n",
       "      <td>https://www.bbc.co.uk/news/av/uk-england-hamps...</td>\n",
       "      <td>https://ichef.bbci.co.uk/news/1024/branded_new...</td>\n",
       "    </tr>\n",
       "  </tbody>\n",
       "</table>\n",
       "</div>"
      ],
      "text/plain": [
       "                             author  \\\n",
       "0  https://www.facebook.com/bbcnews   \n",
       "1  https://www.facebook.com/bbcnews   \n",
       "2  https://www.facebook.com/bbcnews   \n",
       "3  https://www.facebook.com/bbcnews   \n",
       "4                          BBC News   \n",
       "\n",
       "                                             content  \\\n",
       "0  Image copyrightGetty ImagesImage caption\\r\\n W...   \n",
       "1  Image caption\\r\\n Callum has travelled to Roya...   \n",
       "2  Image copyrightGetty Images\\r\\nPatients who fa...   \n",
       "3  Image copyrightGetty Images\\r\\nThey were said ...   \n",
       "4                                                NaN   \n",
       "\n",
       "                                         description         publishedAt  \\\n",
       "0  Hundreds of Muslim women are braving the Delhi... 2020-01-04 01:14:44   \n",
       "1  The community in Shetland is trying to raise m... 2020-01-04 01:04:57   \n",
       "2  GPs urge hospitals not to strike people off th... 2020-01-04 01:35:46   \n",
       "3  Figures show millions of the new-style £5 and ... 2020-01-04 03:57:47   \n",
       "4  The increasing age of carers looking after adu... 2020-01-04 00:01:04   \n",
       "\n",
       "                                   source  \\\n",
       "0  {'id': 'bbc-news', 'name': 'BBC News'}   \n",
       "1  {'id': 'bbc-news', 'name': 'BBC News'}   \n",
       "2  {'id': 'bbc-news', 'name': 'BBC News'}   \n",
       "3  {'id': 'bbc-news', 'name': 'BBC News'}   \n",
       "4  {'id': 'bbc-news', 'name': 'BBC News'}   \n",
       "\n",
       "                                               title  \\\n",
       "0  Shaheen Bagh: The women occupying Delhi street...   \n",
       "1  'I need to go on a car, a boat, a plane and a ...   \n",
       "2  Call to give hospital appointment no-shows sec...   \n",
       "3  Millions of plastic £5 and £10 banknotes repla...   \n",
       "4   Age of carers is 'looming crisis' for adult care   \n",
       "\n",
       "                                                 url  \\\n",
       "0  https://www.bbc.co.uk/news/world-asia-india-50...   \n",
       "1  https://www.bbc.co.uk/news/uk-scotland-north-e...   \n",
       "2       https://www.bbc.co.uk/news/uk-wales-49263455   \n",
       "3             https://www.bbc.co.uk/news/uk-50989914   \n",
       "4  https://www.bbc.co.uk/news/av/uk-england-hamps...   \n",
       "\n",
       "                                          urlToImage  \n",
       "0  https://ichef.bbci.co.uk/news/1024/branded_new...  \n",
       "1  https://ichef.bbci.co.uk/news/1024/branded_new...  \n",
       "2  https://ichef.bbci.co.uk/news/1024/branded_new...  \n",
       "3  https://ichef.bbci.co.uk/news/1024/branded_new...  \n",
       "4  https://ichef.bbci.co.uk/news/1024/branded_new...  "
      ]
     },
     "execution_count": 7,
     "metadata": {},
     "output_type": "execute_result"
    }
   ],
   "source": [
    "df.head()"
   ]
  },
  {
   "cell_type": "markdown",
   "metadata": {},
   "source": [
    "# 2. Text Analysis"
   ]
  },
  {
   "cell_type": "markdown",
   "metadata": {},
   "source": [
    "To give meaning to independent words and, consequently, whole sentences, we’ll use SpaCy’s pre-trained word embeddings models. More specifically, SpaCy’s large model (en_core_web_lg), which has pre-trained word vectors for 685k English words. Alternatively, you could be using any pre-trained word representation model (Word2Vec, FastText, GloVe…).\n",
    "\n",
    "By default, SpaCy considers a sentence’s vector as the average between every word’s vector. It’s a simplistic approach that doesn’t take into account the order of words to determine a sentence’s vector."
   ]
  },
  {
   "cell_type": "code",
   "execution_count": 8,
   "metadata": {},
   "outputs": [
    {
     "name": "stderr",
     "output_type": "stream",
     "text": [
      "Widget Javascript not detected.  It may not be installed properly. Did you enable the widgetsnbextension? If not, then run \"jupyter nbextension enable --py --sys-prefix widgetsnbextension\"\n"
     ]
    },
    {
     "name": "stdout",
     "output_type": "stream",
     "text": [
      "\n"
     ]
    }
   ],
   "source": [
    "sent_vecs = {}\n",
    "docs = []\n",
    "\n",
    "for title in tqdm_notebook(df.title):\n",
    "    doc = nlp(title)\n",
    "    docs.append(doc)\n",
    "    sent_vecs.update({title: doc.vector})\n",
    "\n",
    "sentences = list(sent_vecs.keys())\n",
    "vectors = list(sent_vecs.values())"
   ]
  },
  {
   "cell_type": "markdown",
   "metadata": {},
   "source": [
    "# 3. Clustering"
   ]
  },
  {
   "cell_type": "markdown",
   "metadata": {},
   "source": [
    "The epsilon parameter determines the maximum distance between two samples for them to be considered as in the same neighborhood, meaning that if eps is too big, fewer clusters will be formed, but also if it’s too small, most of the points will be classified as not belonging to a cluster (-1), which will result in a few clusters as well.\n",
    "\n",
    "https://scikit-learn.org/stable/modules/generated/sklearn.cluster.DBSCAN.html"
   ]
  },
  {
   "cell_type": "code",
   "execution_count": 9,
   "metadata": {},
   "outputs": [
    {
     "name": "stderr",
     "output_type": "stream",
     "text": [
      "Widget Javascript not detected.  It may not be installed properly. Did you enable the widgetsnbextension? If not, then run \"jupyter nbextension enable --py --sys-prefix widgetsnbextension\"\n"
     ]
    },
    {
     "name": "stdout",
     "output_type": "stream",
     "text": [
      "\n"
     ]
    }
   ],
   "source": [
    "x = np.array(vectors)\n",
    "\n",
    "n_classes = {}\n",
    "\n",
    "for i in tqdm_notebook(np.arange(0.001, 1, 0.001)):\n",
    "    dbscan = DBSCAN(eps=i,\n",
    "                    min_samples=2,\n",
    "                    metric='cosine',\n",
    "                    n_jobs=-1).fit(x)\n",
    "    n_classes.update({i: len(pd.Series(dbscan.labels_).value_counts())})"
   ]
  },
  {
   "cell_type": "code",
   "execution_count": 10,
   "metadata": {},
   "outputs": [
    {
     "data": {
      "image/png": "[encoded data removed]",
      "text/plain": [
       "<Figure size 432x288 with 1 Axes>"
      ]
     },
     "metadata": {},
     "output_type": "display_data"
    }
   ],
   "source": [
    "plt.plot(list(n_classes.keys()), list(n_classes.values()))\n",
    "plt.show()"
   ]
  },
  {
   "cell_type": "markdown",
   "metadata": {},
   "source": [
    "Tunning eps value might be one of the most delicate steps because the outcome will vary a lot depending on how much you want to consider sentences as similar. The right value will come up with experimentation, trying to find a value that preserves the similarities between sentences without splitting close sentences into different groups.\n",
    "\n",
    "In general, since we want to end up with very similar sentences in the same cluster, the target should be a value that returns a higher number of classes"
   ]
  },
  {
   "cell_type": "code",
   "execution_count": 11,
   "metadata": {},
   "outputs": [
    {
     "data": {
      "text/plain": [
       "DBSCAN(algorithm='auto', eps=0.136, leaf_size=30, metric='cosine',\n",
       "    metric_params=None, min_samples=5, n_jobs=None, p=None)"
      ]
     },
     "execution_count": 11,
     "metadata": {},
     "output_type": "execute_result"
    }
   ],
   "source": [
    "max_eps = max(n_classes.items(), key=operator.itemgetter(1))[0]\n",
    "\n",
    "dbscan = DBSCAN(eps=max_eps,\n",
    "                min_samples=5,\n",
    "                metric='cosine').fit(x)\n",
    "dbscan"
   ]
  },
  {
   "cell_type": "code",
   "execution_count": 12,
   "metadata": {},
   "outputs": [],
   "source": [
    "result = pd.DataFrame({'label': dbscan.labels_,\n",
    "                       'sent': sentences\n",
    "                      })\n",
    "result.loc[:, 'vectors'] = [x.tolist()]"
   ]
  },
  {
   "cell_type": "markdown",
   "metadata": {},
   "source": [
    "# 4. Visualize"
   ]
  },
  {
   "cell_type": "markdown",
   "metadata": {},
   "source": [
    "t-SNE is a tool to visualize high-dimensional data. It converts similarities between data points to joint probabilities and tries to minimize the Kullback-Leibler divergence between the joint probabilities of the low-dimensional embedding and the high-dimensional data. t-SNE has a cost function that is not convex, i.e. with different initializations we can get different results.\n",
    "\n",
    "https://scikit-learn.org/stable/modules/generated/sklearn.manifold.TSNE.html"
   ]
  },
  {
   "cell_type": "code",
   "execution_count": 13,
   "metadata": {},
   "outputs": [
    {
     "ename": "TypeError",
     "evalue": "__init__() got an unexpected keyword argument 'n_jobs'",
     "output_type": "error",
     "traceback": [
      "\u001b[0;31m---------------------------------------------------------------------------\u001b[0m",
      "\u001b[0;31mTypeError\u001b[0m                                 Traceback (most recent call last)",
      "\u001b[0;32m<ipython-input-13-98c4f8764fb8>\u001b[0m in \u001b[0;36m<module>\u001b[0;34m()\u001b[0m\n\u001b[1;32m      1\u001b[0m \u001b[0;31m# reduce dimensions to 2\u001b[0m\u001b[0;34m\u001b[0m\u001b[0;34m\u001b[0m\u001b[0;34m\u001b[0m\u001b[0m\n\u001b[1;32m      2\u001b[0m tsne_coord = TSNE(n_components=2,\n\u001b[0;32m----> 3\u001b[0;31m              n_jobs=-1).fit_transform(x)\n\u001b[0m\u001b[1;32m      4\u001b[0m \u001b[0;34m\u001b[0m\u001b[0m\n\u001b[1;32m      5\u001b[0m \u001b[0mx_tsne\u001b[0m\u001b[0;34m,\u001b[0m \u001b[0my_tsne\u001b[0m \u001b[0;34m=\u001b[0m \u001b[0;34m[\u001b[0m\u001b[0mi\u001b[0m\u001b[0;34m[\u001b[0m\u001b[0;36m0\u001b[0m\u001b[0;34m]\u001b[0m \u001b[0;32mfor\u001b[0m \u001b[0mi\u001b[0m \u001b[0;32min\u001b[0m \u001b[0mtsne_coord\u001b[0m\u001b[0;34m]\u001b[0m\u001b[0;34m,\u001b[0m \u001b[0;34m[\u001b[0m\u001b[0mi\u001b[0m\u001b[0;34m[\u001b[0m\u001b[0;36m1\u001b[0m\u001b[0;34m]\u001b[0m \u001b[0;32mfor\u001b[0m \u001b[0mi\u001b[0m \u001b[0;32min\u001b[0m \u001b[0mtsne_coord\u001b[0m\u001b[0;34m]\u001b[0m\u001b[0;34m\u001b[0m\u001b[0;34m\u001b[0m\u001b[0m\n",
      "\u001b[0;31mTypeError\u001b[0m: __init__() got an unexpected keyword argument 'n_jobs'"
     ]
    }
   ],
   "source": [
    "# reduce dimensions to 2\n",
    "tsne_coord = TSNE(n_components=2,\n",
    "             n_jobs=-1).fit_transform(x)\n",
    "\n",
    "x_tsne, y_tsne = [i[0] for i in tsne_coord], [i[1] for i in tsne_coord]\n",
    "\n",
    "result['x'] = x_tsne\n",
    "result['y'] = y_tsne"
   ]
  },
  {
   "cell_type": "code",
   "execution_count": null,
   "metadata": {},
   "outputs": [],
   "source": [
    "result.head()"
   ]
  },
  {
   "cell_type": "code",
   "execution_count": null,
   "metadata": {},
   "outputs": [],
   "source": [
    "# remove un-clustered rows\n",
    "result_filtered = result[result['label'] != -1]\n",
    "result_filtered.shape, result.shape"
   ]
  },
  {
   "cell_type": "code",
   "execution_count": null,
   "metadata": {},
   "outputs": [],
   "source": [
    "result_filtered.loc[:, 'lable_cat'] = result_filtered.label.astype(str)\n",
    "result_filtered.loc[:, 'lable_cat'] = 'g_' + result_filtered['lable_cat'] "
   ]
  },
  {
   "cell_type": "code",
   "execution_count": null,
   "metadata": {},
   "outputs": [],
   "source": [
    "def generate_color_map(num_color):\n",
    "\n",
    "    cm = pylab.get_cmap('gist_rainbow')\n",
    "    cgen = (cm(1.*i/num_color) for i in range(num_color))\n",
    "    return [i for i in cgen]\n",
    "\n",
    "c_map = generate_color_map(result_filtered.label.nunique())"
   ]
  },
  {
   "cell_type": "code",
   "execution_count": null,
   "metadata": {},
   "outputs": [],
   "source": [
    "plt.figure(figsize=[16, 16])\n",
    "sns.scatterplot(x='x', y='y', data=result_filtered,\n",
    "               hue='lable_cat',\n",
    "               sizes  = 30,\n",
    "                palette=c_map\n",
    "               )"
   ]
  },
  {
   "cell_type": "markdown",
   "metadata": {},
   "source": [
    "# 5. Transform to Events"
   ]
  },
  {
   "cell_type": "markdown",
   "metadata": {},
   "source": [
    "Next step is to arrange those sentences in time and to filter them by relevance. \n",
    "\n",
    "Since there are many titles about the same topic every day, we need a criterium to pick one among them. It should be the sentence that best represents the event, one that comprises the core message which those titles refer to.\n",
    "\n",
    "In order to achieve that, we can group the daily sentences, and for each group (or cluster), choose the one closest to the cluster center."
   ]
  },
  {
   "cell_type": "code",
   "execution_count": null,
   "metadata": {},
   "outputs": [],
   "source": [
    "result_filtered[result_filtered['label'] == 3]"
   ]
  },
  {
   "cell_type": "code",
   "execution_count": null,
   "metadata": {},
   "outputs": [],
   "source": [
    "def get_mean_vector(sents):\n",
    "    a = np.zeros(300)\n",
    "    for sent in sents:\n",
    "        a = a+nlp(sent).vector\n",
    "    return a/len(sents)\n",
    "\n",
    "\n",
    "def get_central_vector(sents):\n",
    "   \n",
    "    sents = sents.reset_index(drop=True)\n",
    "    vecs = []\n",
    "    for sent in sents:\n",
    "        doc = nlp(sent)\n",
    "        vecs.append(doc.vector)\n",
    "        \n",
    "    mean_vec = get_mean_vector(sents)\n",
    "    index = pairwise_distances_argmin_min(np.array([mean_vec]),\n",
    "                                          vecs)[0][0]\n",
    "    return sents[index]"
   ]
  },
  {
   "cell_type": "code",
   "execution_count": null,
   "metadata": {},
   "outputs": [],
   "source": [
    "get_central_vector(result_filtered['sent'][result_filtered['label'] == 3])"
   ]
  }
 ],
 "metadata": {
  "kernelspec": {
   "display_name": "Python 3",
   "language": "python",
   "name": "python3"
  },
  "widgets": {
   "state": {
    "8fb03e272a854da8b44f2dc5ef9dfd70": {
     "views": [
      {
       "cell_index": 11
      }
     ]
    },
    "dc260264744a4115add139ef5cee53c6": {
     "views": [
      {
       "cell_index": 8
      }
     ]
    }
   },
   "version": "1.2.0"
  }
 },
 "nbformat": 4,
 "nbformat_minor": 4
}
