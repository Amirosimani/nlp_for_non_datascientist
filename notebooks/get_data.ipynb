{
 "cells": [
  {
   "cell_type": "code",
   "execution_count": null,
   "metadata": {},
   "outputs": [],
   "source": [
    "from newsapi import NewsApiClient\n",
    "from datetime import datetime as dt\n",
    "from datetime import timedelta"
   ]
  },
  {
   "cell_type": "code",
   "execution_count": null,
   "metadata": {},
   "outputs": [],
   "source": [
    "key = 'f392d617107f4dbfa6a672410064e7d1'\n",
    "newsapi = NewsApiClient(api_key=key)\n",
    "\n",
    "start_date = '2020-01-04'"
   ]
  },
  {
   "cell_type": "code",
   "execution_count": null,
   "metadata": {},
   "outputs": [],
   "source": [
    "all_articles = []\n",
    "\n",
    "for i in tqdm(range(0,30)):\n",
    "    from_date = dt.strptime(start_date, '%Y-%m-%d') + timedelta(days=i)\n",
    "    end_date = from_date + timedelta(days=1)\n",
    "    \n",
    "    from_date = from_date.strftime(\"%Y-%m-%d\") \n",
    "    end_date = end_date.strftime(\"%Y-%m-%d\") \n",
    "    \n",
    "    for p in range(6, 8):\n",
    "        articles = newsapi.get_everything(\n",
    "                                              sources='bbc-news,the-verge',\n",
    "                                              domains='bbc.co.uk,techcrunch.com',\n",
    "                                              from_param=from_date,\n",
    "                                              to=end_date,\n",
    "                                              language='en',\n",
    "                                              sort_by='relevancy',\n",
    "                                              page=p)['articles']\n",
    "        all_articles.extend(articles)"
   ]
  },
  {
   "cell_type": "code",
   "execution_count": null,
   "metadata": {},
   "outputs": [],
   "source": [
    "df_articles = pd.DataFrame.from_dict(all_articles)\n",
    "df_articles.shape\n",
    "\n",
    "df_articles = df_articles.drop_duplicates(subset='content')\n",
    "\n",
    "df_articles.shape\n",
    "\n",
    "df_articles.to_csv('../data/news_api.csv', index=False)"
   ]
  }
 ],
 "metadata": {
  "kernelspec": {
   "display_name": "Python 3",
   "language": "python",
   "name": "python3"
  },
  "language_info": {
   "codemirror_mode": {
    "name": "ipython",
    "version": 3
   },
   "file_extension": ".py",
   "mimetype": "text/x-python",
   "name": "python",
   "nbconvert_exporter": "python",
   "pygments_lexer": "ipython3",
   "version": "3.6.8"
  }
 },
 "nbformat": 4,
 "nbformat_minor": 2
}
